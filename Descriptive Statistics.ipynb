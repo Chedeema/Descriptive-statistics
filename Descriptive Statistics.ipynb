{
 "cells": [
  {
   "cell_type": "markdown",
   "id": "68ed3c39-297d-4719-b9d6-26ddf5b0c8d9",
   "metadata": {},
   "source": [
    "# Descriptive statistics: mean, median, mode, variance, standard deviation."
   ]
  },
  {
   "cell_type": "code",
   "execution_count": 28,
   "id": "c8d219ae-d243-40d5-b015-d131033d04a4",
   "metadata": {},
   "outputs": [],
   "source": [
    "import pandas as pd\n",
    "import numpy as np\n",
    "import matplotlib.pyplot as plt\n",
    "import seaborn as sns"
   ]
  },
  {
   "cell_type": "code",
   "execution_count": 3,
   "id": "3523a0d0-29d3-44ba-bd7c-bfda20a68a47",
   "metadata": {},
   "outputs": [
    {
     "data": {
      "text/html": [
       "<div>\n",
       "<style scoped>\n",
       "    .dataframe tbody tr th:only-of-type {\n",
       "        vertical-align: middle;\n",
       "    }\n",
       "\n",
       "    .dataframe tbody tr th {\n",
       "        vertical-align: top;\n",
       "    }\n",
       "\n",
       "    .dataframe thead th {\n",
       "        text-align: right;\n",
       "    }\n",
       "</style>\n",
       "<table border=\"1\" class=\"dataframe\">\n",
       "  <thead>\n",
       "    <tr style=\"text-align: right;\">\n",
       "      <th></th>\n",
       "      <th>Campaign ID</th>\n",
       "      <th>Budget (USD)</th>\n",
       "      <th>Clicks</th>\n",
       "      <th>Impressions</th>\n",
       "      <th>Conversions</th>\n",
       "      <th>Region</th>\n",
       "      <th>Date</th>\n",
       "    </tr>\n",
       "  </thead>\n",
       "  <tbody>\n",
       "    <tr>\n",
       "      <th>0</th>\n",
       "      <td>1</td>\n",
       "      <td>8270</td>\n",
       "      <td>1943</td>\n",
       "      <td>92747</td>\n",
       "      <td>386</td>\n",
       "      <td>South</td>\n",
       "      <td>2023-01-01</td>\n",
       "    </tr>\n",
       "    <tr>\n",
       "      <th>1</th>\n",
       "      <td>2</td>\n",
       "      <td>1860</td>\n",
       "      <td>588</td>\n",
       "      <td>63752</td>\n",
       "      <td>460</td>\n",
       "      <td>South</td>\n",
       "      <td>2023-01-02</td>\n",
       "    </tr>\n",
       "    <tr>\n",
       "      <th>2</th>\n",
       "      <td>3</td>\n",
       "      <td>6390</td>\n",
       "      <td>3076</td>\n",
       "      <td>57573</td>\n",
       "      <td>347</td>\n",
       "      <td>East</td>\n",
       "      <td>2023-01-03</td>\n",
       "    </tr>\n",
       "    <tr>\n",
       "      <th>3</th>\n",
       "      <td>4</td>\n",
       "      <td>6191</td>\n",
       "      <td>2059</td>\n",
       "      <td>60101</td>\n",
       "      <td>189</td>\n",
       "      <td>East</td>\n",
       "      <td>2023-01-04</td>\n",
       "    </tr>\n",
       "    <tr>\n",
       "      <th>4</th>\n",
       "      <td>5</td>\n",
       "      <td>6734</td>\n",
       "      <td>2485</td>\n",
       "      <td>27646</td>\n",
       "      <td>190</td>\n",
       "      <td>East</td>\n",
       "      <td>2023-01-05</td>\n",
       "    </tr>\n",
       "    <tr>\n",
       "      <th>...</th>\n",
       "      <td>...</td>\n",
       "      <td>...</td>\n",
       "      <td>...</td>\n",
       "      <td>...</td>\n",
       "      <td>...</td>\n",
       "      <td>...</td>\n",
       "      <td>...</td>\n",
       "    </tr>\n",
       "    <tr>\n",
       "      <th>195</th>\n",
       "      <td>196</td>\n",
       "      <td>7546</td>\n",
       "      <td>4648</td>\n",
       "      <td>14116</td>\n",
       "      <td>251</td>\n",
       "      <td>North</td>\n",
       "      <td>2023-07-15</td>\n",
       "    </tr>\n",
       "    <tr>\n",
       "      <th>196</th>\n",
       "      <td>197</td>\n",
       "      <td>2986</td>\n",
       "      <td>3059</td>\n",
       "      <td>26470</td>\n",
       "      <td>225</td>\n",
       "      <td>North</td>\n",
       "      <td>2023-07-16</td>\n",
       "    </tr>\n",
       "    <tr>\n",
       "      <th>197</th>\n",
       "      <td>198</td>\n",
       "      <td>9338</td>\n",
       "      <td>2365</td>\n",
       "      <td>43344</td>\n",
       "      <td>293</td>\n",
       "      <td>South</td>\n",
       "      <td>2023-07-17</td>\n",
       "    </tr>\n",
       "    <tr>\n",
       "      <th>198</th>\n",
       "      <td>199</td>\n",
       "      <td>3911</td>\n",
       "      <td>2579</td>\n",
       "      <td>43918</td>\n",
       "      <td>305</td>\n",
       "      <td>North</td>\n",
       "      <td>2023-07-18</td>\n",
       "    </tr>\n",
       "    <tr>\n",
       "      <th>199</th>\n",
       "      <td>200</td>\n",
       "      <td>2734</td>\n",
       "      <td>4746</td>\n",
       "      <td>53224</td>\n",
       "      <td>97</td>\n",
       "      <td>South</td>\n",
       "      <td>2023-07-19</td>\n",
       "    </tr>\n",
       "  </tbody>\n",
       "</table>\n",
       "<p>200 rows × 7 columns</p>\n",
       "</div>"
      ],
      "text/plain": [
       "     Campaign ID  Budget (USD)  Clicks  Impressions  Conversions Region  \\\n",
       "0              1          8270    1943        92747          386  South   \n",
       "1              2          1860     588        63752          460  South   \n",
       "2              3          6390    3076        57573          347   East   \n",
       "3              4          6191    2059        60101          189   East   \n",
       "4              5          6734    2485        27646          190   East   \n",
       "..           ...           ...     ...          ...          ...    ...   \n",
       "195          196          7546    4648        14116          251  North   \n",
       "196          197          2986    3059        26470          225  North   \n",
       "197          198          9338    2365        43344          293  South   \n",
       "198          199          3911    2579        43918          305  North   \n",
       "199          200          2734    4746        53224           97  South   \n",
       "\n",
       "           Date  \n",
       "0    2023-01-01  \n",
       "1    2023-01-02  \n",
       "2    2023-01-03  \n",
       "3    2023-01-04  \n",
       "4    2023-01-05  \n",
       "..          ...  \n",
       "195  2023-07-15  \n",
       "196  2023-07-16  \n",
       "197  2023-07-17  \n",
       "198  2023-07-18  \n",
       "199  2023-07-19  \n",
       "\n",
       "[200 rows x 7 columns]"
      ]
     },
     "execution_count": 3,
     "metadata": {},
     "output_type": "execute_result"
    }
   ],
   "source": [
    "data = pd.read_csv('marketing_company_data.csv')\n",
    "data"
   ]
  },
  {
   "cell_type": "code",
   "execution_count": 50,
   "id": "d88def43-28b8-4b09-b582-f9d3a534dc57",
   "metadata": {},
   "outputs": [
    {
     "name": "stdout",
     "output_type": "stream",
     "text": [
      "<class 'pandas.core.frame.DataFrame'>\n",
      "RangeIndex: 200 entries, 0 to 199\n",
      "Data columns (total 7 columns):\n",
      " #   Column        Non-Null Count  Dtype \n",
      "---  ------        --------------  ----- \n",
      " 0   Campaign ID   200 non-null    int64 \n",
      " 1   Budget (USD)  200 non-null    int64 \n",
      " 2   Clicks        200 non-null    int64 \n",
      " 3   Impressions   200 non-null    int64 \n",
      " 4   Conversions   200 non-null    int64 \n",
      " 5   Region        200 non-null    object\n",
      " 6   Date          200 non-null    object\n",
      "dtypes: int64(5), object(2)\n",
      "memory usage: 11.1+ KB\n"
     ]
    }
   ],
   "source": [
    "data.info()"
   ]
  },
  {
   "cell_type": "code",
   "execution_count": 5,
   "id": "810ee36a-f081-46e5-ad12-51243cab219a",
   "metadata": {},
   "outputs": [
    {
     "name": "stdout",
     "output_type": "stream",
     "text": [
      "Mean Clicks: 2653.4\n"
     ]
    }
   ],
   "source": [
    "mean_value = data['Clicks'].mean()\n",
    "print('Mean Clicks:', mean_value)"
   ]
  },
  {
   "cell_type": "code",
   "execution_count": 7,
   "id": "d695ea10-d16f-4dde-a43e-3adff359be8d",
   "metadata": {},
   "outputs": [
    {
     "name": "stdout",
     "output_type": "stream",
     "text": [
      "Median Clicks: 2817.0\n"
     ]
    }
   ],
   "source": [
    "median_value = data['Clicks'].median()\n",
    "print('Median Clicks:', median_value)"
   ]
  },
  {
   "cell_type": "code",
   "execution_count": 11,
   "id": "2b5bc9c1-14aa-4658-b66c-5cbef79b6520",
   "metadata": {},
   "outputs": [
    {
     "name": "stdout",
     "output_type": "stream",
     "text": [
      "Mode Clicks: 4648\n"
     ]
    }
   ],
   "source": [
    "mode_value = data['Clicks'].mode()[0]\n",
    "print('Mode Clicks:', mode_value)"
   ]
  },
  {
   "cell_type": "markdown",
   "id": "777c57dc-7bca-443c-9f05-7dd3d30f83d6",
   "metadata": {},
   "source": [
    "## Variance\n",
    "Definition: Variance measures how far the numbers in a dataset are from the mean (average). It gives a general idea of the spread of the data points.\n",
    "\n",
    "Interpretation: A higher variance means the data points are more spread out from the mean, while a lower variance means they are closer to the mean."
   ]
  },
  {
   "cell_type": "code",
   "execution_count": 13,
   "id": "d4886cd0-035f-4b6e-bd08-6319f42e01b2",
   "metadata": {},
   "outputs": [
    {
     "name": "stdout",
     "output_type": "stream",
     "text": [
      "Variance in Clicks: 2045461.2864321629\n"
     ]
    }
   ],
   "source": [
    "variance_value = data['Clicks'].var()\n",
    "print('Variance in Clicks:', variance_value)"
   ]
  },
  {
   "cell_type": "markdown",
   "id": "385f95d7-c8d8-44a2-9a79-ad180a6be2a4",
   "metadata": {},
   "source": [
    "## Standard Deviation\n",
    "Definition: Standard deviation is the square root of the variance. It is a more interpretable measure of spread because it is expressed in the same units as the data.\n",
    "\n",
    "Interpretation: Like variance, a higher standard deviation means more spread out data, and a lower standard deviation means the data is clustered closer to the mean."
   ]
  },
  {
   "cell_type": "code",
   "execution_count": 16,
   "id": "b1463f6f-480c-43b7-ac1f-9e8f06bcdc46",
   "metadata": {},
   "outputs": [
    {
     "name": "stdout",
     "output_type": "stream",
     "text": [
      "Standard Deviation in Clicks: 1430.1962405321037\n"
     ]
    }
   ],
   "source": [
    "std_dev = data['Clicks'].std()\n",
    "print('Standard Deviation in Clicks:', std_dev)"
   ]
  },
  {
   "cell_type": "markdown",
   "id": "d51d239d-76eb-4f9c-8fb6-01a1bfbc44ef",
   "metadata": {},
   "source": [
    "## Covariance\n",
    "Covariance is a statistical measure that indicates the direction of the relationship between two variables. It tells us whether two variables tend to increase or decrease together.\n",
    "\n",
    "### Key Points:\n",
    "- Positive Covariance: When one variable increases, the other also tends to increase. For example, if both clicks and impressions increase together, the covariance will be positive.\n",
    "- Negative Covariance: When one variable increases and the other decreases, the covariance will be negative. For example, if clicks increase while budget decreases, this would result in a negative covariance.\n",
    "- Zero Covariance: If there's no consistent relationship (either increasing or decreasing) between the two variables, the covariance will be close to zero."
   ]
  },
  {
   "cell_type": "code",
   "execution_count": 23,
   "id": "f6692758-7d3d-400b-8f26-b68ee62f2244",
   "metadata": {},
   "outputs": [
    {
     "data": {
      "text/plain": [
       "(-1597813.7105527641, -103657.96884422103)"
      ]
     },
     "execution_count": 23,
     "metadata": {},
     "output_type": "execute_result"
    }
   ],
   "source": [
    "covariance_clicks_impressions = data['Clicks'].cov(data['Impressions'])\n",
    "covariance_clicks_budget = data['Clicks'].cov(data['Budget (USD)'])\n",
    "\n",
    "covariance_clicks_impressions, covariance_clicks_budget"
   ]
  },
  {
   "cell_type": "markdown",
   "id": "f3d9d113-db0e-4643-980b-f2a4d14b01c1",
   "metadata": {},
   "source": [
    "### Interpretation:\n",
    "- Clicks and Impressions: The large negative covariance suggests that there is a negative relationship between clicks and impressions. This could mean that as impressions increase, clicks tend to decrease, or vice versa. This might indicate inefficiency in the campaign, where higher impressions are not leading to more clicks.\n",
    "\n",
    "- Clicks and Budget: The smaller negative covariance between clicks and budget suggests a slightly negative relationship, implying that as budget increases, the number of clicks decreases slightly. This might reflect a case where increasing the budget does not necessarily lead to more clicks, or it could be due to external factors affecting performance."
   ]
  },
  {
   "cell_type": "code",
   "execution_count": 44,
   "id": "3d6e37d9-1b57-475c-a327-75f1f0605d32",
   "metadata": {},
   "outputs": [
    {
     "data": {
      "image/png": "[encoded data removed]",
      "text/plain": [
       "<Figure size 640x480 with 1 Axes>"
      ]
     },
     "metadata": {},
     "output_type": "display_data"
    }
   ],
   "source": [
    "plt.scatter(data['Impressions'], data['Clicks'], color='blue', label='Impressions vs Clicks')\n",
    "plt.legend\n",
    "plt.show()"
   ]
  },
  {
   "cell_type": "code",
   "execution_count": 52,
   "id": "39b45854-f30b-402e-ba84-e09524507322",
   "metadata": {},
   "outputs": [
    {
     "data": {
      "image/png": "[encoded data removed]",
      "text/plain": [
       "<Figure size 640x480 with 1 Axes>"
      ]
     },
     "metadata": {},
     "output_type": "display_data"
    }
   ],
   "source": [
    "plt.scatter(data['Budget (USD)'], data['Clicks'], color='green', label='Budget(USD) vs Clicks')\n",
    "plt.legend\n",
    "plt.show()"
   ]
  },
  {
   "cell_type": "markdown",
   "id": "2924406f-1cc1-4faa-b6e0-05f68f0b24ee",
   "metadata": {},
   "source": [
    "## Correlation\n",
    "Correlation is a statistical measure that describes the strength and direction of a linear relationship between two variables. It indicates how closely two variables move together.\n",
    "\n",
    "### Key Points:\n",
    "- Positive Correlation: If one variable increases when the other increases, the correlation is positive.\n",
    "- Negative Correlation: If one variable increases while the other decreases, the correlation is negative.\n",
    "- Zero Correlation: If there's no linear relationship between the variables, the correlation is close to zero.\n",
    "## Correlation Coefficient (r):\n",
    "The correlation coefficient is a value between -1 and 1:\n",
    "- +1: Perfect positive correlation.\n",
    "- -1: Perfect negative correlation.\n",
    "- 0: No correlation."
   ]
  },
  {
   "cell_type": "code",
   "execution_count": 55,
   "id": "5b750c47-dc31-497e-8adf-8f219ad19e54",
   "metadata": {},
   "outputs": [],
   "source": [
    "# Correlation between Impressions and Clicks\n",
    "correlation_impressions_clicks = data['Impressions'].corr(data['Clicks'])"
   ]
  },
  {
   "cell_type": "code",
   "execution_count": 57,
   "id": "54f56b6a-fc2a-45c7-8486-7bc548cc758b",
   "metadata": {},
   "outputs": [],
   "source": [
    "# Correlation between Budget (USD) and Clicks\n",
    "correlation_budget_clicks = data['Budget (USD)'].corr(data['Clicks'])"
   ]
  },
  {
   "cell_type": "code",
   "execution_count": 59,
   "id": "10a54bc8-f79a-4084-a1a7-6dd8faf74edb",
   "metadata": {},
   "outputs": [
    {
     "data": {
      "text/plain": [
       "(-0.0382753908931125, -0.027996814616415573)"
      ]
     },
     "execution_count": 59,
     "metadata": {},
     "output_type": "execute_result"
    }
   ],
   "source": [
    "correlation_impressions_clicks, correlation_budget_clicks"
   ]
  },
  {
   "cell_type": "markdown",
   "id": "2d8bc480-6e20-461b-9c14-f300724dd39d",
   "metadata": {},
   "source": [
    "### Interpretation:\n",
    "- Correlation between Impressions and Clicks (−0.038):\n",
    "\n",
    "The correlation is very close to 0 but slightly negative. This means that there is almost no linear relationship between impressions and clicks in your data.\n",
    "The small negative value suggests that as impressions increase, clicks very slightly tend to decrease, but the effect is negligible.\n",
    "\n",
    "- Correlation between Budget (USD) and Clicks (−0.028):\n",
    "\n",
    "Similarly, this correlation is also very close to 0, indicating almost no linear relationship between budget and clicks.\n",
    "The slight negative value implies that an increase in budget might be associated with a very small decrease in clicks, but this relationship is weak and almost insignificant.\n",
    "\n",
    "### Conclusion:\n",
    "Both correlations are very weak and near zero, indicating that impressions and budget do not have a strong linear relationship with clicks in this dataset. You might explore other factors or nonlinear relationships that could better explain the performance of your campaigns."
   ]
  },
  {
   "cell_type": "code",
   "execution_count": null,
   "id": "50108526-aca9-4ce2-96d9-4bbfe35c4dde",
   "metadata": {},
   "outputs": [],
   "source": []
  }
 ],
 "metadata": {
  "kernelspec": {
   "display_name": "Python 3 (ipykernel)",
   "language": "python",
   "name": "python3"
  },
  "language_info": {
   "codemirror_mode": {
    "name": "ipython",
    "version": 3
   },
   "file_extension": ".py",
   "mimetype": "text/x-python",
   "name": "python",
   "nbconvert_exporter": "python",
   "pygments_lexer": "ipython3",
   "version": "3.12.4"
  }
 },
 "nbformat": 4,
 "nbformat_minor": 5
}
